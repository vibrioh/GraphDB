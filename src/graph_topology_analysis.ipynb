{
 "cells": [
  {
   "cell_type": "code",
   "execution_count": 1,
   "metadata": {},
   "outputs": [],
   "source": [
    "import graphdb_client\n",
    "import logging \n",
    "import json"
   ]
  },
  {
   "cell_type": "code",
   "execution_count": 2,
   "metadata": {},
   "outputs": [],
   "source": [
    "logging.basicConfig(level=logging.DEBUG, format='[%(levelname)s] %(lineno)s %(message)s',)\n",
    "g = graphdb_client.gc(host = 'http://localhost:8010')"
   ]
  },
  {
   "cell_type": "code",
   "execution_count": 3,
   "metadata": {},
   "outputs": [],
   "source": [
    "# Load header vertex file which file is locate on the user machine\n",
    "def load_movie_vertex():\n",
    "    vertex_file_path='../data/movie_vertice.csv'\n",
    "    has_header = 1\n",
    "    column_delimiter = ','\n",
    "    default_vertex_label = \"MOVIE\"\n",
    "    #in the content_type {\"aaa\":['aa','INT']}  \n",
    "    #'aa' is the column name in the csv's header, 'aaa' is the property name you want to call in your graph\n",
    "    \n",
    "    content_type = [{\"budget\": ['budget', \"DOUBLE\"]},\n",
    "    {\"genres\": [\"genres\", \"STRING\"]},{\"keywords\": [\"keywords\", \"STRING\"]},\n",
    "    {\"popularity\": [\"popularity\", \"FLOAT\"]},{\"revenue\": [\"revenue\", \"DOUBLE\"]},\n",
    "    {\"runtime\": [\"runtime\", \"INT\"]},{\"title\": [\"title\", \"STRING\"]},\n",
    "    {\"vote_average\": [\"vote_average\", \"FLOAT\"]},{\"vote_count\": [\"vote_count\", \"INT\"]}]\n",
    "\n",
    "    column_header_map = {\n",
    "                \"vertex_id\": \"id\",\n",
    "                \"properties\":content_type\n",
    "            }\n",
    "\n",
    "\n",
    "    rc = g.load_table_vertex(file_path = vertex_file_path,\n",
    "                        has_header = has_header,\n",
    "                        column_delimiter = column_delimiter, \n",
    "                        default_vertex_label = default_vertex_label,  \n",
    "                        column_header_map = column_header_map, \n",
    "                        column_number_map=[{}],\n",
    "                        content_type = content_type,\n",
    "                        data_row_start = -1, \n",
    "                        data_row_end = -1)\n",
    "    print rc\n",
    "    \n",
    "def load_actor_vertex():\n",
    "    vertex_file_path='../data/actor_vertice.csv'\n",
    "    has_header = 1\n",
    "    column_delimiter = ','\n",
    "    default_vertex_label = \"ACTOR\"\n",
    "    content_type = [{\"name\": ['name', \"STRING\"]},{\"gender\": [\"gender\", \"INT\"]}]\n",
    "\n",
    "    column_header_map = {\n",
    "                \"vertex_id\": \"id\",\n",
    "                \"properties\":content_type\n",
    "            }\n",
    "\n",
    "    rc = g.load_table_vertex(file_path = vertex_file_path,\n",
    "                        has_header = has_header,\n",
    "                        column_delimiter = column_delimiter, \n",
    "                        default_vertex_label = default_vertex_label,  \n",
    "                        column_header_map = column_header_map, \n",
    "                        column_number_map=[{}],\n",
    "                        content_type = content_type,\n",
    "                        data_row_start = -1, \n",
    "                        data_row_end = -1)\n",
    "    print rc\n",
    "def load_director_vertex():\n",
    "    vertex_file_path='../data/director_vertice.csv'\n",
    "    has_header = 1\n",
    "    column_delimiter = ','\n",
    "    default_vertex_label = \"DIRECTOR\"\n",
    "    content_type = [{\"name\": ['name', \"STRING\"]},{\"gender\": [\"gender\", \"INT\"]}]\n",
    "\n",
    "    column_header_map = {\n",
    "                \"vertex_id\": \"id\",\n",
    "                \"properties\":content_type\n",
    "    }\n",
    "\n",
    "    rc = g.load_table_vertex(file_path = vertex_file_path,\n",
    "                        has_header = has_header,\n",
    "                        column_delimiter = column_delimiter, \n",
    "                        default_vertex_label = default_vertex_label, \n",
    "                        column_header_map = column_header_map, \n",
    "                        column_number_map=[{}],\n",
    "                        content_type = content_type,\n",
    "                        data_row_start = -1, \n",
    "                        data_row_end = -1)\n",
    "    \n",
    "    print rc\n",
    "    \n",
    "# Load header edge file which file is locate on local machine\n",
    "def load_act_edge():\n",
    "    edge_file_path = '../data/actor_edge.csv'\n",
    "    has_header = 1\n",
    "    column_delimiter = ','\n",
    "\n",
    "    default_source_label = \"MOVIE\"\n",
    "    default_target_label = \"ACTOR\"\n",
    "    default_edge_label = 'ACT'\n",
    "    content_type = [{\"order\":['order', \"INT\"]}]\n",
    "    edge_column_header_map = {\n",
    "                \"source_id\": \"source_id\",\n",
    "                \"target_id\":\"target_id\",\n",
    "                \"properties\":content_type\n",
    "            }\n",
    "\n",
    "    rc = g.load_table_edge(file_path = edge_file_path,\n",
    "                      has_header = has_header, \n",
    "                      column_delimiter= column_delimiter, \n",
    "                      default_source_label = default_source_label, \n",
    "                      default_target_label = default_target_label, \n",
    "                      default_edge_label = default_edge_label, \n",
    "                      column_header_map = edge_column_header_map,  \n",
    "                      column_number_map=[{}],\n",
    "                      data_row_start= -1, \n",
    "                      data_row_end= -1)\n",
    "    print rc\n",
    "    \n",
    "def load_act_edge_reverse():\n",
    "    edge_file_path = '../data/actor_edge.csv'\n",
    "    has_header = 1\n",
    "    column_delimiter = ','\n",
    "\n",
    "    default_source_label = \"ACTOR\"\n",
    "    default_target_label = \"MOVIE\"\n",
    "    default_edge_label = 'ACT'\n",
    "    content_type = [{\"order\":['order', \"INT\"]}]\n",
    "    edge_column_header_map = {\n",
    "                \"source_id\": \"target_id\",\n",
    "                \"target_id\":\"source_id\",\n",
    "                \"properties\":content_type\n",
    "            }\n",
    "\n",
    "    rc = g.load_table_edge(file_path = edge_file_path,\n",
    "                      has_header = has_header, \n",
    "                      column_delimiter= column_delimiter, \n",
    "                      default_source_label = default_source_label, \n",
    "                      default_target_label = default_target_label, \n",
    "                      default_edge_label = default_edge_label, \n",
    "                      column_header_map = edge_column_header_map,  \n",
    "                      column_number_map=[{}],\n",
    "                      data_row_start= -1, \n",
    "                      data_row_end=-1)\n",
    "    print rc\n",
    "    \n",
    "    \n",
    "def load_dir_edge():\n",
    "    edge_file_path = '../data/director_edge.csv'\n",
    "    has_header = 1\n",
    "    column_delimiter = ','\n",
    "\n",
    "    default_source_label = \"MOVIE\"\n",
    "    default_target_label = \"DIRECTOR\"\n",
    "    default_edge_label = 'DIR'\n",
    "    content_type = []\n",
    "    edge_column_header_map = {\n",
    "                \"source_id\": \"source_id\",\n",
    "                \"target_id\":\"target_id\",\n",
    "                \"properties\":content_type\n",
    "        }\n",
    "    \n",
    "    rc = g.load_table_edge(file_path = edge_file_path,\n",
    "                      has_header = has_header, \n",
    "                      column_delimiter= column_delimiter, \n",
    "                      default_source_label = default_source_label, \n",
    "                      default_target_label = default_target_label, \n",
    "                      default_edge_label = default_edge_label, \n",
    "                      column_header_map = edge_column_header_map, \n",
    "                      column_number_map={},\n",
    "\n",
    "                      data_row_start= -1, \n",
    "                      data_row_end=-1)\n",
    "    print rc\n",
    "def load_dir_edge_reverse():\n",
    "    edge_file_path = '../data/director_edge.csv'\n",
    "    has_header = 1\n",
    "    column_delimiter = ','\n",
    "\n",
    "    default_source_label = \"DIRECTOR\"\n",
    "    default_target_label = \"MOVIE\"\n",
    "    default_edge_label = 'DIR'\n",
    "    content_type = []\n",
    "    edge_column_header_map = {\n",
    "                \"source_id\": \"target_id\",\n",
    "                \"target_id\":\"source_id\",\n",
    "                \"properties\":content_type\n",
    "        }\n",
    "    \n",
    "    rc = g.load_table_edge(file_path = edge_file_path,\n",
    "                      has_header = has_header, \n",
    "                      column_delimiter= column_delimiter, \n",
    "                      default_source_label = default_source_label, \n",
    "                      default_target_label = default_target_label, \n",
    "                      default_edge_label = default_edge_label, \n",
    "                      column_header_map = edge_column_header_map, \n",
    "                      column_number_map={},\n",
    "\n",
    "                      data_row_start= -1, \n",
    "                      data_row_end=-1)\t\n",
    "    print rc\n"
   ]
  },
  {
   "cell_type": "code",
   "execution_count": 4,
   "metadata": {},
   "outputs": [
    {
     "name": "stdout",
     "output_type": "stream",
     "text": [
      "current graph set to hw3_demo_1\n"
     ]
    }
   ],
   "source": [
    "rc = g.set_current_graph('hw3_demo_1')\n",
    "print (rc)"
   ]
  },
  {
   "cell_type": "code",
   "execution_count": 7,
   "metadata": {},
   "outputs": [
    {
     "name": "stderr",
     "output_type": "stream",
     "text": [
      "[DEBUG] 208 Starting new HTTP connection (1): localhost\n",
      "[DEBUG] 396 http://localhost:8010 \"POST /graphs/hw3_demo_1/create HTTP/1.1\" 200 21\n"
     ]
    },
    {
     "name": "stdout",
     "output_type": "stream",
     "text": [
      "{\"status\": \"success\"}\n"
     ]
    }
   ],
   "source": [
    "rc = g.create_graph(graph_name = 'hw3_demo_1')\n",
    "print (rc)"
   ]
  },
  {
   "cell_type": "code",
   "execution_count": 6,
   "metadata": {},
   "outputs": [
    {
     "name": "stderr",
     "output_type": "stream",
     "text": [
      "[DEBUG] 208 Starting new HTTP connection (1): localhost\n",
      "[DEBUG] 396 http://localhost:8010 \"DELETE /graphs/hw3_demo_1 HTTP/1.1\" 200 21\n"
     ]
    },
    {
     "name": "stdout",
     "output_type": "stream",
     "text": [
      "{\n",
      "    \"status\": \"success\"\n",
      "}\n"
     ]
    }
   ],
   "source": [
    "rc = g.delete_graph('hw3_demo_1')\n",
    "print(rc)"
   ]
  },
  {
   "cell_type": "code",
   "execution_count": 8,
   "metadata": {},
   "outputs": [
    {
     "name": "stderr",
     "output_type": "stream",
     "text": [
      "[DEBUG] 208 Starting new HTTP connection (1): localhost\n",
      "[DEBUG] 396 http://localhost:8010 \"POST /graphs/hw3_demo_1/table/vertex HTTP/1.1\" 200 59\n"
     ]
    },
    {
     "name": "stdout",
     "output_type": "stream",
     "text": [
      "{\"status\": \"success\", \"message\": \"3015 vertices are added\"}\n"
     ]
    }
   ],
   "source": [
    "load_movie_vertex()"
   ]
  },
  {
   "cell_type": "code",
   "execution_count": 9,
   "metadata": {},
   "outputs": [
    {
     "name": "stderr",
     "output_type": "stream",
     "text": [
      "[DEBUG] 208 Starting new HTTP connection (1): localhost\n",
      "[DEBUG] 396 http://localhost:8010 \"POST /graphs/hw3_demo_1/table/vertex HTTP/1.1\" 200 60\n"
     ]
    },
    {
     "name": "stdout",
     "output_type": "stream",
     "text": [
      "{\"status\": \"success\", \"message\": \"12228 vertices are added\"}\n"
     ]
    }
   ],
   "source": [
    "load_actor_vertex()"
   ]
  },
  {
   "cell_type": "code",
   "execution_count": 10,
   "metadata": {},
   "outputs": [
    {
     "name": "stderr",
     "output_type": "stream",
     "text": [
      "[DEBUG] 208 Starting new HTTP connection (1): localhost\n",
      "[DEBUG] 396 http://localhost:8010 \"POST /graphs/hw3_demo_1/table/vertex HTTP/1.1\" 200 59\n"
     ]
    },
    {
     "name": "stdout",
     "output_type": "stream",
     "text": [
      "{\"status\": \"success\", \"message\": \"1459 vertices are added\"}\n"
     ]
    }
   ],
   "source": [
    "load_director_vertex()"
   ]
  },
  {
   "cell_type": "code",
   "execution_count": 11,
   "metadata": {},
   "outputs": [
    {
     "name": "stderr",
     "output_type": "stream",
     "text": [
      "[DEBUG] 208 Starting new HTTP connection (1): localhost\n",
      "[DEBUG] 396 http://localhost:8010 \"POST /graphs/hw3_demo_1/table/edge HTTP/1.1\" 200 57\n",
      "[DEBUG] 208 Starting new HTTP connection (1): localhost\n"
     ]
    },
    {
     "name": "stdout",
     "output_type": "stream",
     "text": [
      "{\"status\": \"success\", \"message\": \"29545 edges are added\"}\n"
     ]
    },
    {
     "name": "stderr",
     "output_type": "stream",
     "text": [
      "[DEBUG] 396 http://localhost:8010 \"POST /graphs/hw3_demo_1/table/edge HTTP/1.1\" 200 57\n"
     ]
    },
    {
     "name": "stdout",
     "output_type": "stream",
     "text": [
      "{\"status\": \"success\", \"message\": \"29545 edges are added\"}\n"
     ]
    }
   ],
   "source": [
    "load_act_edge()\n",
    "load_act_edge_reverse()"
   ]
  },
  {
   "cell_type": "code",
   "execution_count": 12,
   "metadata": {},
   "outputs": [
    {
     "name": "stderr",
     "output_type": "stream",
     "text": [
      "[DEBUG] 208 Starting new HTTP connection (1): localhost\n",
      "[DEBUG] 396 http://localhost:8010 \"POST /graphs/hw3_demo_1/table/edge HTTP/1.1\" 200 56\n",
      "[DEBUG] 208 Starting new HTTP connection (1): localhost\n"
     ]
    },
    {
     "name": "stdout",
     "output_type": "stream",
     "text": [
      "{\"status\": \"success\", \"message\": \"3270 edges are added\"}\n"
     ]
    },
    {
     "name": "stderr",
     "output_type": "stream",
     "text": [
      "[DEBUG] 396 http://localhost:8010 \"POST /graphs/hw3_demo_1/table/edge HTTP/1.1\" 200 56\n"
     ]
    },
    {
     "name": "stdout",
     "output_type": "stream",
     "text": [
      "{\"status\": \"success\", \"message\": \"3270 edges are added\"}\n"
     ]
    }
   ],
   "source": [
    "load_dir_edge()\n",
    "load_dir_edge_reverse()"
   ]
  },
  {
   "cell_type": "code",
   "execution_count": null,
   "metadata": {},
   "outputs": [],
   "source": []
  }
 ],
 "metadata": {
  "kernelspec": {
   "display_name": "Python 2",
   "language": "python",
   "name": "python2"
  },
  "language_info": {
   "codemirror_mode": {
    "name": "ipython",
    "version": 2
   },
   "file_extension": ".py",
   "mimetype": "text/x-python",
   "name": "python",
   "nbconvert_exporter": "python",
   "pygments_lexer": "ipython2",
   "version": "2.7.14"
  }
 },
 "nbformat": 4,
 "nbformat_minor": 1
}
