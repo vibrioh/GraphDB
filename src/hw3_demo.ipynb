{
 "cells": [
  {
   "cell_type": "markdown",
   "metadata": {},
   "source": [
    "# File Loading Function: \n",
    "#### to make graph undirected, you need to load edges twice(source_id->target_id,target_id->source_id)"
   ]
  },
  {
   "cell_type": "code",
   "execution_count": 1,
   "metadata": {
    "collapsed": true
   },
   "outputs": [
    {
     "ename": "ImportError",
     "evalue": "No module named graphdb_client",
     "traceback": [
      "\u001b[0;31m---------------------------------------------------------------------------\u001b[0m",
      "\u001b[0;31mImportError\u001b[0m                               Traceback (most recent call last)",
      "\u001b[0;32m<ipython-input-1-675dbd6fe203>\u001b[0m in \u001b[0;36m<module>\u001b[0;34m()\u001b[0m\n\u001b[0;32m----> 1\u001b[0;31m \u001b[0;32mimport\u001b[0m \u001b[0mgraphdb_client\u001b[0m\u001b[0;34m\u001b[0m\u001b[0m\n\u001b[0m\u001b[1;32m      2\u001b[0m \u001b[0;32mimport\u001b[0m \u001b[0mlogging\u001b[0m\u001b[0;34m\u001b[0m\u001b[0m\n\u001b[1;32m      3\u001b[0m \u001b[0;32mimport\u001b[0m \u001b[0mjson\u001b[0m\u001b[0;34m\u001b[0m\u001b[0m\n\u001b[1;32m      4\u001b[0m \u001b[0;34m\u001b[0m\u001b[0m\n\u001b[1;32m      5\u001b[0m \u001b[0;34m\u001b[0m\u001b[0m\n",
      "\u001b[0;31mImportError\u001b[0m: No module named graphdb_client"
     ],
     "output_type": "error"
    }
   ],
   "source": [
    "import graphdb_client\n",
    "import logging \n",
    "import json\n",
    "\n",
    "\n",
    "logging.basicConfig(level=logging.DEBUG, format='[%(levelname)s] %(lineno)s %(message)s',)\n",
    "g = graphdb_client.gc(host = 'http://localhost:8010')\n",
    "    \n",
    "# Load header vertex file which file is locate on the user machine\n",
    "def load_movie_vertex():\n",
    "    vertex_file_path='../data/movie_vertice.csv'\n",
    "    has_header = 1\n",
    "    column_delimiter = ','\n",
    "    default_vertex_label = \"MOVIE\"\n",
    "    #in the content_type {\"aaa\":['aa','INT']}  \n",
    "    #'aa' is the column name in the csv's header, 'aaa' is the property name you want to call in your graph\n",
    "    \n",
    "    content_type = [{\"budget\": ['budget', \"DOUBLE\"]},\n",
    "    {\"genres\": [\"genres\", \"STRING\"]},{\"keywords\": [\"keywords\", \"STRING\"]},\n",
    "    {\"popularity\": [\"popularity\", \"FLOAT\"]},{\"revenue\": [\"revenue\", \"DOUBLE\"]},\n",
    "    {\"runtime\": [\"runtime\", \"INT\"]},{\"title\": [\"title\", \"STRING\"]},\n",
    "    {\"vote_average\": [\"vote_average\", \"FLOAT\"]},{\"vote_count\": [\"vote_count\", \"INT\"]}]\n",
    "\n",
    "    column_header_map = {\n",
    "                \"vertex_id\": \"id\",\n",
    "                \"properties\":content_type\n",
    "            }\n",
    "\n",
    "\n",
    "    rc = g.load_table_vertex(file_path = vertex_file_path,\n",
    "                        has_header = has_header,\n",
    "                        column_delimiter = column_delimiter, \n",
    "                        default_vertex_label = default_vertex_label,  \n",
    "                        column_header_map = column_header_map, \n",
    "                        column_number_map=[{}],\n",
    "                        content_type = content_type,\n",
    "                        data_row_start = -1, \n",
    "                        data_row_end = -1)\n",
    "    print rc\n",
    "    \n",
    "def load_actor_vertex():\n",
    "    vertex_file_path='../data/actor_vertice.csv'\n",
    "    has_header = 1\n",
    "    column_delimiter = ','\n",
    "    default_vertex_label = \"ACTOR\"\n",
    "    content_type = [{\"name\": ['name', \"STRING\"]},{\"gender\": [\"gender\", \"INT\"]}]\n",
    "\n",
    "    column_header_map = {\n",
    "                \"vertex_id\": \"id\",\n",
    "                \"properties\":content_type\n",
    "            }\n",
    "\n",
    "    rc = g.load_table_vertex(file_path = vertex_file_path,\n",
    "                        has_header = has_header,\n",
    "                        column_delimiter = column_delimiter, \n",
    "                        default_vertex_label = default_vertex_label,  \n",
    "                        column_header_map = column_header_map, \n",
    "                        column_number_map=[{}],\n",
    "                        content_type = content_type,\n",
    "                        data_row_start = -1, \n",
    "                        data_row_end = -1)\n",
    "    print rc\n",
    "def load_director_vertex():\n",
    "    vertex_file_path='../data/director_vertice.csv'\n",
    "    has_header = 1\n",
    "    column_delimiter = ','\n",
    "    default_vertex_label = \"DIRECTOR\"\n",
    "    content_type = [{\"name\": ['name', \"STRING\"]},{\"gender\": [\"gender\", \"INT\"]}]\n",
    "\n",
    "    column_header_map = {\n",
    "                \"vertex_id\": \"id\",\n",
    "                \"properties\":content_type\n",
    "    }\n",
    "\n",
    "    rc = g.load_table_vertex(file_path = vertex_file_path,\n",
    "                        has_header = has_header,\n",
    "                        column_delimiter = column_delimiter, \n",
    "                        default_vertex_label = default_vertex_label, \n",
    "                        column_header_map = column_header_map, \n",
    "                        column_number_map=[{}],\n",
    "                        content_type = content_type,\n",
    "                        data_row_start = -1, \n",
    "                        data_row_end = -1)\n",
    "    \n",
    "    print rc\n",
    "    \n",
    "# Load header edge file which file is locate on local machine\n",
    "def load_act_edge():\n",
    "    edge_file_path = '../data/actor_edge.csv'\n",
    "    has_header = 1\n",
    "    column_delimiter = ','\n",
    "\n",
    "    default_source_label = \"MOVIE\"\n",
    "    default_target_label = \"ACTOR\"\n",
    "    default_edge_label = 'ACT'\n",
    "    content_type = [{\"order\":['order', \"INT\"]}]\n",
    "    edge_column_header_map = {\n",
    "                \"source_id\": \"source_id\",\n",
    "                \"target_id\":\"target_id\",\n",
    "                \"properties\":content_type\n",
    "            }\n",
    "\n",
    "    rc = g.load_table_edge(file_path = edge_file_path,\n",
    "                      has_header = has_header, \n",
    "                      column_delimiter= column_delimiter, \n",
    "                      default_source_label = default_source_label, \n",
    "                      default_target_label = default_target_label, \n",
    "                      default_edge_label = default_edge_label, \n",
    "                      column_header_map = edge_column_header_map,  \n",
    "                      column_number_map=[{}],\n",
    "                      data_row_start= -1, \n",
    "                      data_row_end= -1)\n",
    "    print rc\n",
    "    \n",
    "def load_act_edge_reverse():\n",
    "    edge_file_path = '../data/actor_edge.csv'\n",
    "    has_header = 1\n",
    "    column_delimiter = ','\n",
    "\n",
    "    default_source_label = \"ACTOR\"\n",
    "    default_target_label = \"MOVIE\"\n",
    "    default_edge_label = 'ACT'\n",
    "    content_type = [{\"order\":['order', \"INT\"]}]\n",
    "    edge_column_header_map = {\n",
    "                \"source_id\": \"target_id\",\n",
    "                \"target_id\":\"source_id\",\n",
    "                \"properties\":content_type\n",
    "            }\n",
    "\n",
    "    rc = g.load_table_edge(file_path = edge_file_path,\n",
    "                      has_header = has_header, \n",
    "                      column_delimiter= column_delimiter, \n",
    "                      default_source_label = default_source_label, \n",
    "                      default_target_label = default_target_label, \n",
    "                      default_edge_label = default_edge_label, \n",
    "                      column_header_map = edge_column_header_map,  \n",
    "                      column_number_map=[{}],\n",
    "                      data_row_start= -1, \n",
    "                      data_row_end=-1)\n",
    "    print rc\n",
    "    \n",
    "    \n",
    "def load_dir_edge():\n",
    "    edge_file_path = '../data/director_edge.csv'\n",
    "    has_header = 1\n",
    "    column_delimiter = ','\n",
    "\n",
    "    default_source_label = \"MOVIE\"\n",
    "    default_target_label = \"DIRECTOR\"\n",
    "    default_edge_label = 'DIR'\n",
    "    content_type = []\n",
    "    edge_column_header_map = {\n",
    "                \"source_id\": \"source_id\",\n",
    "                \"target_id\":\"target_id\",\n",
    "                \"properties\":content_type\n",
    "        }\n",
    "    \n",
    "    rc = g.load_table_edge(file_path = edge_file_path,\n",
    "                      has_header = has_header, \n",
    "                      column_delimiter= column_delimiter, \n",
    "                      default_source_label = default_source_label, \n",
    "                      default_target_label = default_target_label, \n",
    "                      default_edge_label = default_edge_label, \n",
    "                      column_header_map = edge_column_header_map, \n",
    "                      column_number_map={},\n",
    "\n",
    "                      data_row_start= -1, \n",
    "                      data_row_end=-1)\n",
    "    print rc\n",
    "def load_dir_edge_reverse():\n",
    "    edge_file_path = '../data/director_edge.csv'\n",
    "    has_header = 1\n",
    "    column_delimiter = ','\n",
    "\n",
    "    default_source_label = \"DIRECTOR\"\n",
    "    default_target_label = \"MOVIE\"\n",
    "    default_edge_label = 'DIR'\n",
    "    content_type = []\n",
    "    edge_column_header_map = {\n",
    "                \"source_id\": \"target_id\",\n",
    "                \"target_id\":\"source_id\",\n",
    "                \"properties\":content_type\n",
    "        }\n",
    "    \n",
    "    rc = g.load_table_edge(file_path = edge_file_path,\n",
    "                      has_header = has_header, \n",
    "                      column_delimiter= column_delimiter, \n",
    "                      default_source_label = default_source_label, \n",
    "                      default_target_label = default_target_label, \n",
    "                      default_edge_label = default_edge_label, \n",
    "                      column_header_map = edge_column_header_map, \n",
    "                      column_number_map={},\n",
    "\n",
    "                      data_row_start= -1, \n",
    "                      data_row_end=-1)\t\n",
    "    print rc\n",
    "\n",
    "\n",
    "        "
   ]
  },
  {
   "cell_type": "markdown",
   "metadata": {},
   "source": [
    "# 1.Creating Graph"
   ]
  },
  {
   "cell_type": "markdown",
   "metadata": {},
   "source": [
    "###  You can store multiple graph in this system.  Switch between different by set_current_graph(\"graph's name\")"
   ]
  },
  {
   "cell_type": "code",
   "execution_count": 2,
   "metadata": {},
   "outputs": [
    {
     "name": "stdout",
     "output_type": "stream",
     "text": [
      "current graph set to hw3_demo_1\n"
     ]
    }
   ],
   "source": [
    "rc = g.set_current_graph('hw3_demo_1')\n",
    "print (rc)"
   ]
  },
  {
   "cell_type": "code",
   "execution_count": 4,
   "metadata": {
    "scrolled": true
   },
   "outputs": [
    {
     "name": "stderr",
     "output_type": "stream",
     "text": [
      "[INFO] 207 Starting new HTTP connection (1): localhost\n",
      "[DEBUG] 387 \"POST /graphs/hw3_demo_1/create HTTP/1.1\" 200 21\n"
     ]
    },
    {
     "name": "stdout",
     "output_type": "stream",
     "text": [
      "{\"status\": \"success\"}\n"
     ]
    }
   ],
   "source": [
    "rc = g.create_graph(graph_name = 'hw3_demo_1')\n",
    "print (rc)"
   ]
  },
  {
   "cell_type": "code",
   "execution_count": 3,
   "metadata": {},
   "outputs": [
    {
     "name": "stderr",
     "output_type": "stream",
     "text": [
      "[INFO] 207 Starting new HTTP connection (1): localhost\n",
      "[DEBUG] 387 \"DELETE /graphs/hw3_demo_1 HTTP/1.1\" 200 50\n"
     ]
    },
    {
     "name": "stdout",
     "output_type": "stream",
     "text": [
      "{\n",
      "    \"message\": \"database error\", \n",
      "    \"status\": \"failure\"\n",
      "}\n"
     ]
    }
   ],
   "source": [
    "rc = g.delete_graph('hw3_demo_1')\n",
    "print(rc)"
   ]
  },
  {
   "cell_type": "markdown",
   "metadata": {},
   "source": [
    "# 2.Loading vertices and edges"
   ]
  },
  {
   "cell_type": "code",
   "execution_count": 5,
   "metadata": {},
   "outputs": [
    {
     "name": "stderr",
     "output_type": "stream",
     "text": [
      "[INFO] 207 Starting new HTTP connection (1): localhost\n",
      "[DEBUG] 387 \"POST /graphs/hw3_demo_1/table/vertex HTTP/1.1\" 200 59\n"
     ]
    },
    {
     "name": "stdout",
     "output_type": "stream",
     "text": [
      "{\"status\": \"success\", \"message\": \"3015 vertices are added\"}\n"
     ]
    }
   ],
   "source": [
    "load_movie_vertex()\n"
   ]
  },
  {
   "cell_type": "code",
   "execution_count": 6,
   "metadata": {},
   "outputs": [
    {
     "name": "stderr",
     "output_type": "stream",
     "text": [
      "[INFO] 207 Starting new HTTP connection (1): localhost\n",
      "[DEBUG] 387 \"POST /graphs/hw3_demo_1/table/vertex HTTP/1.1\" 200 60\n"
     ]
    },
    {
     "name": "stdout",
     "output_type": "stream",
     "text": [
      "{\"status\": \"success\", \"message\": \"12228 vertices are added\"}\n"
     ]
    }
   ],
   "source": [
    "load_actor_vertex()\n"
   ]
  },
  {
   "cell_type": "code",
   "execution_count": 7,
   "metadata": {},
   "outputs": [
    {
     "name": "stderr",
     "output_type": "stream",
     "text": [
      "[INFO] 207 Starting new HTTP connection (1): localhost\n",
      "[DEBUG] 387 \"POST /graphs/hw3_demo_1/table/vertex HTTP/1.1\" 200 59\n"
     ]
    },
    {
     "name": "stdout",
     "output_type": "stream",
     "text": [
      "{\"status\": \"success\", \"message\": \"1459 vertices are added\"}\n"
     ]
    }
   ],
   "source": [
    "load_director_vertex()\n"
   ]
  },
  {
   "cell_type": "markdown",
   "metadata": {},
   "source": [
    "### If you want undirected graph, add reverse edge for each directed edge"
   ]
  },
  {
   "cell_type": "code",
   "execution_count": 8,
   "metadata": {},
   "outputs": [
    {
     "name": "stderr",
     "output_type": "stream",
     "text": [
      "[INFO] 207 Starting new HTTP connection (1): localhost\n",
      "[DEBUG] 387 \"POST /graphs/hw3_demo_1/table/edge HTTP/1.1\" 200 57\n",
      "[INFO] 207 Starting new HTTP connection (1): localhost\n"
     ]
    },
    {
     "name": "stdout",
     "output_type": "stream",
     "text": [
      "{\"status\": \"success\", \"message\": \"29545 edges are added\"}\n"
     ]
    },
    {
     "name": "stderr",
     "output_type": "stream",
     "text": [
      "[DEBUG] 387 \"POST /graphs/hw3_demo_1/table/edge HTTP/1.1\" 200 57\n"
     ]
    },
    {
     "name": "stdout",
     "output_type": "stream",
     "text": [
      "{\"status\": \"success\", \"message\": \"29545 edges are added\"}\n"
     ]
    }
   ],
   "source": [
    "load_act_edge()\n",
    "load_act_edge_reverse()"
   ]
  },
  {
   "cell_type": "code",
   "execution_count": 9,
   "metadata": {},
   "outputs": [
    {
     "name": "stderr",
     "output_type": "stream",
     "text": [
      "[INFO] 207 Starting new HTTP connection (1): localhost\n",
      "[DEBUG] 387 \"POST /graphs/hw3_demo_1/table/edge HTTP/1.1\" 200 56\n",
      "[INFO] 207 Starting new HTTP connection (1): localhost\n"
     ]
    },
    {
     "name": "stdout",
     "output_type": "stream",
     "text": [
      "{\"status\": \"success\", \"message\": \"3270 edges are added\"}\n"
     ]
    },
    {
     "name": "stderr",
     "output_type": "stream",
     "text": [
      "[DEBUG] 387 \"POST /graphs/hw3_demo_1/table/edge HTTP/1.1\" 200 56\n"
     ]
    },
    {
     "name": "stdout",
     "output_type": "stream",
     "text": [
      "{\"status\": \"success\", \"message\": \"3270 edges are added\"}\n"
     ]
    }
   ],
   "source": [
    "load_dir_edge()\n",
    "load_dir_edge_reverse()"
   ]
  },
  {
   "cell_type": "markdown",
   "metadata": {},
   "source": [
    "# Printing Graph "
   ]
  },
  {
   "cell_type": "code",
   "execution_count": null,
   "metadata": {
    "collapsed": true
   },
   "outputs": [],
   "source": [
    "q = \"SELECT a WHERE (m:MOVIE WITH runtime='338')->[e:ACT]->(a:ACTOR WITH gender='0')\"\n",
    "rc = g.search_vertex_by_network_prop(q)\n",
    "print json.loads(rc)"
   ]
  },
  {
   "cell_type": "code",
   "execution_count": null,
   "metadata": {
    "collapsed": true
   },
   "outputs": [],
   "source": [
    "rc = g.get_num_edge()\n",
    "print json.loads(rc)"
   ]
  },
  {
   "cell_type": "markdown",
   "metadata": {},
   "source": [
    "### You don't necessarily print returned json file for each operation. "
   ]
  },
  {
   "cell_type": "code",
   "execution_count": null,
   "metadata": {
    "collapsed": true
   },
   "outputs": [],
   "source": [
    "g.print_graph()"
   ]
  },
  {
   "cell_type": "markdown",
   "metadata": {},
   "source": [
    "# 3.Testing "
   ]
  },
  {
   "cell_type": "markdown",
   "metadata": {},
   "source": [
    "### Get movie which id is 278 "
   ]
  },
  {
   "cell_type": "code",
   "execution_count": null,
   "metadata": {
    "collapsed": true
   },
   "outputs": [],
   "source": [
    "rc = g.get_vertex(vertex_label = 'MOVIE', vertex_id = '238')\n",
    "print json.loads(rc)['data']['vertices'][0]['properties']"
   ]
  },
  {
   "cell_type": "markdown",
   "metadata": {},
   "source": [
    "### Get movie's name which id is 278 "
   ]
  },
  {
   "cell_type": "code",
   "execution_count": null,
   "metadata": {
    "collapsed": true
   },
   "outputs": [],
   "source": [
    "rc = g.get_edge(source_id='278', source_label='MOVIE',target_id = '6573', target_label = 'ACTOR')\n",
    "#rc = g.get_edge(source_id='6573', source_label='ACTOR',target_id = '278', target_label = 'MOVIE')\n",
    "\n",
    "print json.loads(rc)['data']"
   ]
  },
  {
   "cell_type": "markdown",
   "metadata": {},
   "source": [
    "### Get all Directors' names"
   ]
  },
  {
   "cell_type": "code",
   "execution_count": null,
   "metadata": {
    "collapsed": true
   },
   "outputs": [],
   "source": [
    "rc = g.get_vertex(vertex_label = ['DIRECTOR'],prop=['name'])\n",
    "print json.loads(rc)['data']['vertices']"
   ]
  },
  {
   "cell_type": "markdown",
   "metadata": {},
   "source": [
    "##  ES"
   ]
  },
  {
   "cell_type": "code",
   "execution_count": null,
   "metadata": {
    "collapsed": true,
    "scrolled": false
   },
   "outputs": [],
   "source": [
    "req = json.dumps({\n",
    "        \"query\": {\n",
    "            \"bool\": {\n",
    "                \"must\": [{\"match\":{'label':\"MOVIE\"}},{\"match\":{'title':'TheGodfather'}}]\n",
    "            }\n",
    "        }\n",
    "    })                        \n",
    "rc = g.search_vertex(req)\n",
    "print rc "
   ]
  },
  {
   "cell_type": "markdown",
   "metadata": {},
   "source": [
    "### Show the cast of '278' MOVIE "
   ]
  },
  {
   "cell_type": "code",
   "execution_count": null,
   "metadata": {
    "collapsed": true
   },
   "outputs": [],
   "source": [
    "g.get_neighbor_out(vertex_id = '278', vertex_label='MOVIE', neighbor_label = ['ACTOR'])"
   ]
  },
  {
   "cell_type": "markdown",
   "metadata": {},
   "source": [
    "### Get subgraph "
   ]
  },
  {
   "cell_type": "code",
   "execution_count": null,
   "metadata": {
    "collapsed": true
   },
   "outputs": [],
   "source": [
    "vertex_id = ['278', '12645']\n",
    "vertex_label = ['MOVIE', 'ACTOR']\n",
    "rc = g.get_subgraph(vertex_ids = vertex_id, vertex_labels = vertex_label, edge_labels = ['ACT'])\n",
    "print json.loads(rc)"
   ]
  },
  {
   "cell_type": "markdown",
   "metadata": {},
   "source": [
    "###  Get shortest path"
   ]
  },
  {
   "cell_type": "code",
   "execution_count": null,
   "metadata": {
    "collapsed": true
   },
   "outputs": [],
   "source": [
    "rc = g.get_path(source_id='278', source_label='MOVIE',target_id = '12645', target_label = 'ACTOR',  edge_labels = ['ACT'], depth = 2)\n",
    "print json.loads(rc)"
   ]
  },
  {
   "cell_type": "markdown",
   "metadata": {
    "collapsed": true
   },
   "source": [
    "# Here is another simple graph if you want to test some function:"
   ]
  },
  {
   "cell_type": "code",
   "execution_count": null,
   "metadata": {
    "collapsed": true
   },
   "outputs": [],
   "source": [
    "g.set_current_graph('test_hw3_small')"
   ]
  },
  {
   "cell_type": "code",
   "execution_count": null,
   "metadata": {
    "collapsed": true
   },
   "outputs": [],
   "source": [
    "g.create_graph(graph_name = 'test_hw3_small')"
   ]
  },
  {
   "cell_type": "code",
   "execution_count": null,
   "metadata": {
    "collapsed": true
   },
   "outputs": [],
   "source": [
    "vertex_id, vertex_label= 'v1', 'person1'\n",
    "prop_dict = [{'AGE':['23']}]\n",
    "g.add_vertex(vertex_id = vertex_id, vertex_label = vertex_label , prop_dict=prop_dict)\n",
    "print json.loads(rc) \n",
    "\n",
    "vertex_id, vertex_label= 'v2', 'person2'\n",
    "prop_dict = [{'AGE':['25']}]\n",
    "rc = g.add_vertex(vertex_id = vertex_id, vertex_label = vertex_label , prop_dict=prop_dict)\n",
    "print json.loads(rc) \n",
    "\n",
    "vertex_id, vertex_label= 'v3', 'person1'\n",
    "prop_dict = [{'AGE':['27']}]\n",
    "rc = g.add_vertex(vertex_id = vertex_id, vertex_label = vertex_label , prop_dict=prop_dict)\n",
    "print json.loads(rc) "
   ]
  },
  {
   "cell_type": "code",
   "execution_count": null,
   "metadata": {
    "collapsed": true
   },
   "outputs": [],
   "source": [
    "prop_dict = [{'from':['1993']}]\n",
    "rc = g.add_edge(source_id='v1', source_label='person1', target_id='v2', target_label='person2', edge_label='knows', prop_dict=prop_dict)\n",
    "print json.loads(rc) \n",
    "\n",
    "prop_dict = [{'from':['1993']}]\n",
    "rc = g.add_edge(source_id='v2', source_label='person2', target_id='v1', target_label='person1', edge_label='knows', prop_dict=prop_dict)\n",
    "print json.loads(rc) \n",
    "\n",
    "prop_dict = [{'from':['1994']}]\n",
    "rc = g.add_edge(source_id='v3', source_label='person1', target_id='v2', target_label='person2', edge_label='knows', prop_dict=prop_dict)\n",
    "print json.loads(rc) \n",
    "\n",
    "prop_dict = [{'from':['1994']}]\n",
    "rc = g.add_edge(source_id='v2', source_label='person2', target_id='v3', target_label='person1', edge_label='knows', prop_dict=prop_dict)\n",
    "print json.loads(rc) "
   ]
  }
 ],
 "metadata": {
  "kernelspec": {
   "display_name": "Python 2",
   "language": "python",
   "name": "python2"
  },
  "language_info": {
   "codemirror_mode": {
    "name": "ipython",
    "version": 2
   },
   "file_extension": ".py",
   "mimetype": "text/x-python",
   "name": "python",
   "nbconvert_exporter": "python",
   "pygments_lexer": "ipython2",
   "version": "2.7.13"
  }
 },
 "nbformat": 4,
 "nbformat_minor": 2
}
